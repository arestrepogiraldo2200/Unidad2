{
 "cells": [
  {
   "cell_type": "markdown",
   "metadata": {},
   "source": [
    "# Método de disección"
   ]
  },
  {
   "cell_type": "markdown",
   "metadata": {},
   "source": [
    "Resolver $x³+4x²-10=0$ en el intervalo [1,2]"
   ]
  },
  {
   "cell_type": "code",
   "execution_count": 25,
   "metadata": {
    "collapsed": true
   },
   "outputs": [],
   "source": [
    "import numpy as np\n",
    "import math"
   ]
  },
  {
   "cell_type": "code",
   "execution_count": 26,
   "metadata": {},
   "outputs": [],
   "source": [
    "#Función a resolver\n",
    "def func(x):\n",
    "    f=x**3+4*x**2-10\n",
    "    return f\n",
    "\n",
    "def sign(x):\n",
    "    if x>0:\n",
    "        return 1\n",
    "    if x<0:\n",
    "        return -1\n",
    "    else:\n",
    "        return 0"
   ]
  },
  {
   "cell_type": "code",
   "execution_count": 51,
   "metadata": {},
   "outputs": [
    {
     "name": "stdout",
     "output_type": "stream",
     "text": [
      "pi=1.250000\tai=1.000000\t bi=1.500000\tf(pi)=-1.796875\t  error=0.250000 \n",
      "pi=1.375000\tai=1.250000\t bi=1.500000\tf(pi)=0.162109\t  error=0.125000 \n",
      "pi=1.312500\tai=1.250000\t bi=1.375000\tf(pi)=-0.848389\t  error=0.062500 \n",
      "pi=1.343750\tai=1.312500\t bi=1.375000\tf(pi)=-0.350983\t  error=0.031250 \n",
      "pi=1.359375\tai=1.343750\t bi=1.375000\tf(pi)=-0.096409\t  error=0.015625 \n",
      "pi=1.367188\tai=1.359375\t bi=1.375000\tf(pi)=0.032356\t  error=0.007812 \n",
      "pi=1.363281\tai=1.359375\t bi=1.367188\tf(pi)=-0.032150\t  error=0.003906 \n",
      "pi=1.365234\tai=1.363281\t bi=1.367188\tf(pi)=0.000072\t  error=0.001953 \n",
      "pi=1.364258\tai=1.363281\t bi=1.365234\tf(pi)=-0.016047\t  error=0.000977 \n",
      "pi=1.364746\tai=1.364258\t bi=1.365234\tf(pi)=-0.007989\t  error=0.000488 \n",
      "pi=1.364990\tai=1.364746\t bi=1.365234\tf(pi)=-0.003959\t  error=0.000244 \n",
      "pi=1.365112\tai=1.364990\t bi=1.365234\tf(pi)=-0.001944\t  error=0.000122 \n",
      "pi=1.365173\tai=1.365112\t bi=1.365234\tf(pi)=-0.000936\t  error=0.000061 \n",
      "pi=1.365204\tai=1.365173\t bi=1.365234\tf(pi)=-0.000432\t  error=0.000031 \n",
      "pi=1.365219\tai=1.365204\t bi=1.365234\tf(pi)=-0.000180\t  error=0.000015 \n",
      "pi=1.365227\tai=1.365219\t bi=1.365234\tf(pi)=-0.000054\t  error=0.000008 \n",
      "pi=1.365231\tai=1.365227\t bi=1.365234\tf(pi)=0.000009\t  error=0.000004 \n",
      "pi=1.365229\tai=1.365227\t bi=1.365231\tf(pi)=-0.000022\t  error=0.000002 \n",
      "pi=1.365230\tai=1.365229\t bi=1.365231\tf(pi)=-0.000007\t  error=0.000001 \n",
      "pi=1.365230\tai=1.365230\t bi=1.365231\tf(pi)=0.000001\t  error=0.000000 \n",
      "pi=1.365230\tai=1.365230\t bi=1.365230\tf(pi)=-0.000003\t  error=0.000000 \n",
      "pi=1.365230\tai=1.365230\t bi=1.365230\tf(pi)=-0.000001\t  error=0.000000 \n",
      "pi=1.365230\tai=1.365230\t bi=1.365230\tf(pi)=0.000000\t  error=0.000000 \n",
      "pi=1.365230\tai=1.365230\t bi=1.365230\tf(pi)=-0.000000\t  error=0.000000 \n",
      "pi=1.365230\tai=1.365230\t bi=1.365230\tf(pi)=-0.000000\t  error=0.000000 \n",
      "pi=1.365230\tai=1.365230\t bi=1.365230\tf(pi)=0.000000\t  error=0.000000 \n",
      "pi=1.365230\tai=1.365230\t bi=1.365230\tf(pi)=-0.000000\t  error=0.000000 \n",
      "pi=1.365230\tai=1.365230\t bi=1.365230\tf(pi)=0.000000\t  error=0.000000 \n",
      "pi=1.365230\tai=1.365230\t bi=1.365230\tf(pi)=0.000000\t  error=0.000000 \n",
      "pi=1.365230\tai=1.365230\t bi=1.365230\tf(pi)=-0.000000\t  error=0.000000 \n",
      "pi=1.365230\tai=1.365230\t bi=1.365230\tf(pi)=-0.000000\t  error=0.000000 \n",
      "pi=1.365230\tai=1.365230\t bi=1.365230\tf(pi)=0.000000\t  error=0.000000 \n",
      "pi=1.365230\tai=1.365230\t bi=1.365230\tf(pi)=0.000000\t  error=0.000000 \n",
      "pi=1.365230\tai=1.365230\t bi=1.365230\tf(pi)=-0.000000\t  error=0.000000 \n",
      "pi=1.365230\tai=1.365230\t bi=1.365230\tf(pi)=0.000000\t  error=0.000000 \n",
      "pi=1.365230\tai=1.365230\t bi=1.365230\tf(pi)=0.000000\t  error=0.000000 \n",
      "pi=1.365230\tai=1.365230\t bi=1.365230\tf(pi)=0.000000\t  error=0.000000 \n",
      "pi=1.365230\tai=1.365230\t bi=1.365230\tf(pi)=0.000000\t  error=0.000000 \n",
      "pi=1.365230\tai=1.365230\t bi=1.365230\tf(pi)=-0.000000\t  error=0.000000 \n",
      "pi=1.365230\tai=1.365230\t bi=1.365230\tf(pi)=-0.000000\t  error=0.000000 \n",
      "pi=1.365230\tai=1.365230\t bi=1.365230\tf(pi)=0.000000\t  error=0.000000 \n",
      "pi=1.365230\tai=1.365230\t bi=1.365230\tf(pi)=0.000000\t  error=0.000000 \n",
      "pi=1.365230\tai=1.365230\t bi=1.365230\tf(pi)=-0.000000\t  error=0.000000 \n",
      "pi=1.365230\tai=1.365230\t bi=1.365230\tf(pi)=0.000000\t  error=0.000000 \n",
      "pi=1.365230\tai=1.365230\t bi=1.365230\tf(pi)=-0.000000\t  error=0.000000 \n",
      "pi=1.365230\tai=1.365230\t bi=1.365230\tf(pi)=0.000000\t  error=0.000000 \n",
      "pi=1.365230\tai=1.365230\t bi=1.365230\tf(pi)=-0.000000\t  error=0.000000 \n",
      "pi=1.365230\tai=1.365230\t bi=1.365230\tf(pi)=0.000000\t  error=0.000000 \n",
      "pi=1.365230\tai=1.365230\t bi=1.365230\tf(pi)=0.000000\t  error=0.000000 \n",
      "1.3652300134140969\n",
      "0.0\n"
     ]
    }
   ],
   "source": [
    "ai=1.0\n",
    "bi=2.0\n",
    "Tol=1.0e-15\n",
    "Nmax=1000\n",
    "error=1.0\n",
    "\n",
    "\n",
    "\n",
    "if sign(func(ai))*sign(func(bi))<0:\n",
    "    iteracion=1\n",
    "    while (error>Tol):\n",
    "        pi=0.5*(ai+bi)        \n",
    "        pi_previo=pi\n",
    "        if(sign(func(pi))==sign(func(ai))):\n",
    "            ai=pi\n",
    "            bi=bi\n",
    "        elif(sign(func(pi))==sign(func(bi))):\n",
    "            bi=pi\n",
    "            ai=ai\n",
    "        pi=0.5*(ai+bi)\n",
    "        error=abs(pi-pi_previo)\n",
    "        iteración=iteracion+1\n",
    "        \n",
    "        print(\"pi=%f\\tai=%f\\t bi=%f\\tf(pi)=%f\\t  error=%f \" %(pi,ai,bi,func(pi),error))\n",
    "        \n",
    "        if iteracion>Nmax:\n",
    "            print(\"Número máximo de iteraciones excedido.\")\n",
    "            break\n",
    "\n",
    "\n",
    "    \n",
    "else:\n",
    "    print(\"No concluyente\")\n",
    "\n",
    "print(pi)\n",
    "print(func(pi))\n",
    "    "
   ]
  },
  {
   "cell_type": "code",
   "execution_count": null,
   "metadata": {
    "collapsed": true
   },
   "outputs": [],
   "source": []
  }
 ],
 "metadata": {
  "kernelspec": {
   "display_name": "Python 3",
   "language": "python",
   "name": "python3"
  },
  "language_info": {
   "codemirror_mode": {
    "name": "ipython",
    "version": 3
   },
   "file_extension": ".py",
   "mimetype": "text/x-python",
   "name": "python",
   "nbconvert_exporter": "python",
   "pygments_lexer": "ipython3",
   "version": "3.6.3"
  }
 },
 "nbformat": 4,
 "nbformat_minor": 2
}
